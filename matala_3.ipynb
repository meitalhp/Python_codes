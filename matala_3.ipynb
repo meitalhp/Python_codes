{
 "cells": [
  {
   "attachments": {},
   "cell_type": "markdown",
   "metadata": {},
   "source": [
    " # *Assignment 3 – Web services*\n",
    "----"
   ]
  },
  {
   "attachments": {},
   "cell_type": "markdown",
   "metadata": {},
   "source": [
    "#### 1st part- import libraries"
   ]
  },
  {
   "cell_type": "code",
   "execution_count": 3,
   "metadata": {},
   "outputs": [],
   "source": [
    "import pandas as pd\n",
    "import re\n",
    "import requests\n",
    "import json"
   ]
  },
  {
   "attachments": {},
   "cell_type": "markdown",
   "metadata": {},
   "source": [
    "#### 2nd part- read destinations file"
   ]
  },
  {
   "cell_type": "code",
   "execution_count": 4,
   "metadata": {},
   "outputs": [
    {
     "data": {
      "text/plain": [
       "['Istanbul', 'Amsterdam', 'Valletta', 'Basel', 'Doha']"
      ]
     },
     "execution_count": 4,
     "metadata": {},
     "output_type": "execute_result"
    }
   ],
   "source": [
    "#reading txt file\n",
    "address_text = [line.rstrip() for line in open('dests.txt')]\n",
    "\n",
    "#reading API KEY\n",
    "api_key=open('api_key.txt').readline()\n",
    "address_text"
   ]
  },
  {
   "attachments": {},
   "cell_type": "markdown",
   "metadata": {},
   "source": [
    "#### 3rd part- get requests for duration and distance"
   ]
  },
  {
   "attachments": {},
   "cell_type": "markdown",
   "metadata": {},
   "source": [
    " *notice I used a seperate txt file for my API key to ensure security*\n",
    "\n",
    " *I am using try- except format to avoid bad requests for servers and identify my errors*"
   ]
  },
  {
   "cell_type": "code",
   "execution_count": 12,
   "metadata": {},
   "outputs": [
    {
     "name": "stdout",
     "output_type": "stream",
     "text": [
      "[1813585, 4536442, 3794755, 4114180, 2166679] \n",
      " [1254.0166666666667, 2878.9333333333334, 3043.483333333333, 2642.9166666666665, 1364.3166666666666]\n"
     ]
    }
   ],
   "source": [
    "destinations='Tel%20Aviv'\n",
    "distance=[]\n",
    "duration=[]\n",
    "for i in range(0,len(address_text)):\n",
    "    url=\"https://maps.googleapis.com/maps/api/distancematrix/json?origins=%s&destinations=%s&units=imperial&key=%s\" % (address_text[i],destinations,api_key)\n",
    "    try:\n",
    "        response = requests.get(url)\n",
    "        if not response.status_code == 200:\n",
    "            print(\"HTTP error\",response.status_code)\n",
    "        else:\n",
    "            try:\n",
    "                response_data = response.json()\n",
    "            except:\n",
    "                print(\"Response not in valid JSON format\")\n",
    "    except:\n",
    "        print(\"Something went wrong with requests.get\")\n",
    "    \n",
    "    #in the assignment, it was requested to retrieve the duration in minutes. but since the information is supposed to be presented in min+hours, here is a code that can show the text\n",
    "    #duration.append(response_data['rows'][0]['elements'][0]['duration']['text'])\n",
    "    #this text can be splitted to elements, each element will receive a different datetime object according to its value.\n",
    "    #to make the data show in minutes, we can use the code below- \n",
    "    duration.append(response_data['rows'][0]['elements'][0]['duration']['value']/60)\n",
    "    distance.append(response_data['rows'][0]['elements'][0]['distance']['value'])\n",
    "print(distance,'\\n',duration)"
   ]
  },
  {
   "attachments": {},
   "cell_type": "markdown",
   "metadata": {},
   "source": [
    "#### 4th part- get requests for lng+lat"
   ]
  },
  {
   "cell_type": "code",
   "execution_count": 13,
   "metadata": {},
   "outputs": [
    {
     "name": "stdout",
     "output_type": "stream",
     "text": [
      "[41.0082376, 52.3675734, 35.8992375, 47.5595986, 25.2854473] \n",
      " [28.9783589, 4.9041389, 14.5140996, 7.5885761, 51.53103979999999]\n"
     ]
    }
   ],
   "source": [
    "lat=[]\n",
    "lng=[]\n",
    "for i in range(0,len(address_text)):\n",
    "    url=\"https://maps.googleapis.com/maps/api/geocode/json?address=%s&key=%s\"  % (address_text[i],api_key)\n",
    "    try:\n",
    "        response = requests.get(url)\n",
    "        if not response.status_code == 200:\n",
    "            print(\"HTTP error\",response.status_code)\n",
    "        else:\n",
    "            try:\n",
    "                response_data = response.json()\n",
    "            except:\n",
    "                print(\"Response not in valid JSON format\")\n",
    "    except:\n",
    "        print(\"Something went wrong with requests.get\")\n",
    "    lat.append(response_data['results'][0][\"geometry\"][\"location\"]['lat'])\n",
    "    lng.append(response_data['results'][0][\"geometry\"][\"location\"]['lng'])\n",
    "print(lat,'\\n',lng)"
   ]
  },
  {
   "attachments": {},
   "cell_type": "markdown",
   "metadata": {},
   "source": [
    "#### 5th part- create the DATAFRAME "
   ]
  },
  {
   "cell_type": "code",
   "execution_count": 14,
   "metadata": {},
   "outputs": [],
   "source": [
    "d={'Target':address_text,'Distance_km':distance,'Duration_in_minutes':duration,'Longitude':lng,'latitude':lat}\n",
    "df = pd.DataFrame(data=d)\n"
   ]
  },
  {
   "attachments": {},
   "cell_type": "markdown",
   "metadata": {},
   "source": [
    "*printing the dataframe*\n",
    "-"
   ]
  },
  {
   "cell_type": "code",
   "execution_count": 15,
   "metadata": {},
   "outputs": [
    {
     "data": {
      "text/html": [
       "<div>\n",
       "<style scoped>\n",
       "    .dataframe tbody tr th:only-of-type {\n",
       "        vertical-align: middle;\n",
       "    }\n",
       "\n",
       "    .dataframe tbody tr th {\n",
       "        vertical-align: top;\n",
       "    }\n",
       "\n",
       "    .dataframe thead th {\n",
       "        text-align: right;\n",
       "    }\n",
       "</style>\n",
       "<table border=\"1\" class=\"dataframe\">\n",
       "  <thead>\n",
       "    <tr style=\"text-align: right;\">\n",
       "      <th></th>\n",
       "      <th>Target</th>\n",
       "      <th>Distance_km</th>\n",
       "      <th>Duration_in_minutes</th>\n",
       "      <th>Longitude</th>\n",
       "      <th>latitude</th>\n",
       "    </tr>\n",
       "  </thead>\n",
       "  <tbody>\n",
       "    <tr>\n",
       "      <th>0</th>\n",
       "      <td>Istanbul</td>\n",
       "      <td>1813585</td>\n",
       "      <td>1254.016667</td>\n",
       "      <td>28.978359</td>\n",
       "      <td>41.008238</td>\n",
       "    </tr>\n",
       "    <tr>\n",
       "      <th>1</th>\n",
       "      <td>Amsterdam</td>\n",
       "      <td>4536442</td>\n",
       "      <td>2878.933333</td>\n",
       "      <td>4.904139</td>\n",
       "      <td>52.367573</td>\n",
       "    </tr>\n",
       "    <tr>\n",
       "      <th>2</th>\n",
       "      <td>Valletta</td>\n",
       "      <td>3794755</td>\n",
       "      <td>3043.483333</td>\n",
       "      <td>14.514100</td>\n",
       "      <td>35.899237</td>\n",
       "    </tr>\n",
       "    <tr>\n",
       "      <th>3</th>\n",
       "      <td>Basel</td>\n",
       "      <td>4114180</td>\n",
       "      <td>2642.916667</td>\n",
       "      <td>7.588576</td>\n",
       "      <td>47.559599</td>\n",
       "    </tr>\n",
       "    <tr>\n",
       "      <th>4</th>\n",
       "      <td>Doha</td>\n",
       "      <td>2166679</td>\n",
       "      <td>1364.316667</td>\n",
       "      <td>51.531040</td>\n",
       "      <td>25.285447</td>\n",
       "    </tr>\n",
       "  </tbody>\n",
       "</table>\n",
       "</div>"
      ],
      "text/plain": [
       "      Target  Distance_km  Duration_in_minutes  Longitude   latitude\n",
       "0   Istanbul      1813585          1254.016667  28.978359  41.008238\n",
       "1  Amsterdam      4536442          2878.933333   4.904139  52.367573\n",
       "2   Valletta      3794755          3043.483333  14.514100  35.899237\n",
       "3      Basel      4114180          2642.916667   7.588576  47.559599\n",
       "4       Doha      2166679          1364.316667  51.531040  25.285447"
      ]
     },
     "execution_count": 15,
     "metadata": {},
     "output_type": "execute_result"
    }
   ],
   "source": [
    "df"
   ]
  },
  {
   "attachments": {},
   "cell_type": "markdown",
   "metadata": {},
   "source": [
    "#### 6th part- Find the 3 cities furthest from Tel Aviv"
   ]
  },
  {
   "cell_type": "code",
   "execution_count": 16,
   "metadata": {},
   "outputs": [
    {
     "data": {
      "text/plain": [
       "1    4536442\n",
       "3    4114180\n",
       "2    3794755\n",
       "Name: Distance_km, dtype: int64"
      ]
     },
     "execution_count": 16,
     "metadata": {},
     "output_type": "execute_result"
    }
   ],
   "source": [
    "df.Distance_km.nlargest(3)"
   ]
  },
  {
   "cell_type": "code",
   "execution_count": null,
   "metadata": {},
   "outputs": [],
   "source": []
  }
 ],
 "metadata": {
  "kernelspec": {
   "display_name": "base",
   "language": "python",
   "name": "python3"
  },
  "language_info": {
   "codemirror_mode": {
    "name": "ipython",
    "version": 3
   },
   "file_extension": ".py",
   "mimetype": "text/x-python",
   "name": "python",
   "nbconvert_exporter": "python",
   "pygments_lexer": "ipython3",
   "version": "3.8.8"
  },
  "orig_nbformat": 4
 },
 "nbformat": 4,
 "nbformat_minor": 2
}
